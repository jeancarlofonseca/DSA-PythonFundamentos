{
 "cells": [
  {
   "cell_type": "markdown",
   "metadata": {},
   "source": [
    "# <font color='blue'>Data Science Academy - Python Fundamentos - Capítulo 7</font>\n",
    "\n",
    "## Download: http://github.com/dsacademybr"
   ]
  },
  {
   "cell_type": "markdown",
   "metadata": {},
   "source": [
    "## Missão: Analisar o Comportamento de Compra de Consumidores."
   ]
  },
  {
   "cell_type": "markdown",
   "metadata": {},
   "source": [
    "## Nível de Dificuldade: Alto"
   ]
  },
  {
   "cell_type": "markdown",
   "metadata": {},
   "source": [
    "Você recebeu a tarefa de analisar os dados de compras de um web site! Os dados estão no formato JSON e disponíveis junto com este notebook.\n",
    "\n",
    "No site, cada usuário efetua login usando sua conta pessoal e pode adquirir produtos à medida que navega pela lista de produtos oferecidos. Cada produto possui um valor de venda. Dados de idade e sexo de cada usuário foram coletados e estão fornecidos no arquivo JSON.\n",
    "\n",
    "Seu trabalho é entregar uma análise de comportamento de compra dos consumidores. Esse é um tipo de atividade comum realizado por Cientistas de Dados e o resultado deste trabalho pode ser usado, por exemplo, para alimentar um modelo de Machine Learning e fazer previsões sobre comportamentos futuros.\n",
    "\n",
    "Mas nesta missão você vai analisar o comportamento de compra dos consumidores usando o pacote Pandas da linguagem Python e seu relatório final deve incluir cada um dos seguintes itens:\n",
    "\n",
    "** Contagem de Consumidores **\n",
    "\n",
    "* Número total de consumidores\n",
    "\n",
    "\n",
    "** Análise Geral de Compras **\n",
    "\n",
    "* Número de itens exclusivos\n",
    "* Preço médio de compra\n",
    "* Número total de compras\n",
    "* Rendimento total\n",
    "\n",
    "\n",
    "** Informações Demográficas Por Gênero **\n",
    "\n",
    "* Porcentagem e contagem de compradores masculinos\n",
    "* Porcentagem e contagem de compradores do sexo feminino\n",
    "* Porcentagem e contagem de outros / não divulgados\n",
    "\n",
    "\n",
    "** Análise de Compras Por Gênero **\n",
    "\n",
    "* Número de compras\n",
    "* Preço médio de compra\n",
    "* Valor Total de Compra\n",
    "* Compras for faixa etária\n",
    "\n",
    "\n",
    "** Identifique os 5 principais compradores pelo valor total de compra e, em seguida, liste (em uma tabela): **\n",
    "\n",
    "* Login\n",
    "* Número de compras\n",
    "* Preço médio de compra\n",
    "* Valor Total de Compra\n",
    "* Itens mais populares\n",
    "\n",
    "\n",
    "** Identifique os 5 itens mais populares por contagem de compras e, em seguida, liste (em uma tabela): **\n",
    "\n",
    "* ID do item\n",
    "* Nome do item\n",
    "* Número de compras\n",
    "* Preço do item\n",
    "* Valor Total de Compra\n",
    "* Itens mais lucrativos\n",
    "\n",
    "\n",
    "** Identifique os 5 itens mais lucrativos pelo valor total de compra e, em seguida, liste (em uma tabela): **\n",
    "\n",
    "* ID do item\n",
    "* Nome do item\n",
    "* Número de compras\n",
    "* Preço do item\n",
    "* Valor Total de Compra\n",
    "\n",
    "\n",
    "** Como considerações finais: **\n",
    "\n",
    "* Seu script deve funcionar para o conjunto de dados fornecido.\n",
    "* Você deve usar a Biblioteca Pandas e o Jupyter Notebook.\n"
   ]
  },
  {
   "cell_type": "code",
   "execution_count": 2,
   "metadata": {},
   "outputs": [],
   "source": [
    "# Imports\n",
    "import pandas as pd\n",
    "import numpy as np"
   ]
  },
  {
   "cell_type": "code",
   "execution_count": 3,
   "metadata": {},
   "outputs": [
    {
     "data": {
      "text/html": [
       "<div>\n",
       "<style scoped>\n",
       "    .dataframe tbody tr th:only-of-type {\n",
       "        vertical-align: middle;\n",
       "    }\n",
       "\n",
       "    .dataframe tbody tr th {\n",
       "        vertical-align: top;\n",
       "    }\n",
       "\n",
       "    .dataframe thead th {\n",
       "        text-align: right;\n",
       "    }\n",
       "</style>\n",
       "<table border=\"1\" class=\"dataframe\">\n",
       "  <thead>\n",
       "    <tr style=\"text-align: right;\">\n",
       "      <th></th>\n",
       "      <th>Idade</th>\n",
       "      <th>Item ID</th>\n",
       "      <th>Login</th>\n",
       "      <th>Nome do Item</th>\n",
       "      <th>Sexo</th>\n",
       "      <th>Valor</th>\n",
       "    </tr>\n",
       "  </thead>\n",
       "  <tbody>\n",
       "    <tr>\n",
       "      <th>0</th>\n",
       "      <td>38</td>\n",
       "      <td>165</td>\n",
       "      <td>Aelalis34</td>\n",
       "      <td>Bone Crushing Silver Skewer</td>\n",
       "      <td>Masculino</td>\n",
       "      <td>3.37</td>\n",
       "    </tr>\n",
       "    <tr>\n",
       "      <th>1</th>\n",
       "      <td>21</td>\n",
       "      <td>119</td>\n",
       "      <td>Eolo46</td>\n",
       "      <td>Stormbringer, Dark Blade of Ending Misery</td>\n",
       "      <td>Masculino</td>\n",
       "      <td>2.32</td>\n",
       "    </tr>\n",
       "    <tr>\n",
       "      <th>2</th>\n",
       "      <td>34</td>\n",
       "      <td>174</td>\n",
       "      <td>Assastnya25</td>\n",
       "      <td>Primitive Blade</td>\n",
       "      <td>Masculino</td>\n",
       "      <td>2.46</td>\n",
       "    </tr>\n",
       "    <tr>\n",
       "      <th>3</th>\n",
       "      <td>21</td>\n",
       "      <td>92</td>\n",
       "      <td>Pheusrical25</td>\n",
       "      <td>Final Critic</td>\n",
       "      <td>Masculino</td>\n",
       "      <td>1.36</td>\n",
       "    </tr>\n",
       "    <tr>\n",
       "      <th>4</th>\n",
       "      <td>23</td>\n",
       "      <td>63</td>\n",
       "      <td>Aela59</td>\n",
       "      <td>Stormfury Mace</td>\n",
       "      <td>Masculino</td>\n",
       "      <td>1.27</td>\n",
       "    </tr>\n",
       "  </tbody>\n",
       "</table>\n",
       "</div>"
      ],
      "text/plain": [
       "   Idade  Item ID         Login                               Nome do Item  \\\n",
       "0     38      165     Aelalis34                Bone Crushing Silver Skewer   \n",
       "1     21      119        Eolo46  Stormbringer, Dark Blade of Ending Misery   \n",
       "2     34      174   Assastnya25                            Primitive Blade   \n",
       "3     21       92  Pheusrical25                               Final Critic   \n",
       "4     23       63        Aela59                             Stormfury Mace   \n",
       "\n",
       "        Sexo  Valor  \n",
       "0  Masculino   3.37  \n",
       "1  Masculino   2.32  \n",
       "2  Masculino   2.46  \n",
       "3  Masculino   1.36  \n",
       "4  Masculino   1.27  "
      ]
     },
     "execution_count": 3,
     "metadata": {},
     "output_type": "execute_result"
    }
   ],
   "source": [
    "# Carrega o arquivo\n",
    "load_file = \"dados_compras.json\"\n",
    "purchase_file = pd.read_json(load_file, orient = \"records\")\n",
    "purchase_file.head()"
   ]
  },
  {
   "cell_type": "markdown",
   "metadata": {},
   "source": [
    "## Informações Sobre os Consumidores"
   ]
  },
  {
   "cell_type": "code",
   "execution_count": 4,
   "metadata": {},
   "outputs": [
    {
     "name": "stdout",
     "output_type": "stream",
     "text": [
      "Número total de consumidores: 573\n"
     ]
    }
   ],
   "source": [
    "# Implemente aqui sua solução\n",
    "numCli = len(purchase_file.groupby('Login').count())\n",
    "\n",
    "print(\"Número total de consumidores: \"+str(numCli))"
   ]
  },
  {
   "cell_type": "markdown",
   "metadata": {},
   "source": [
    "## Análise Geral de Compras"
   ]
  },
  {
   "cell_type": "code",
   "execution_count": 5,
   "metadata": {},
   "outputs": [
    {
     "name": "stdout",
     "output_type": "stream",
     "text": [
      "Número de itens exclusivos: 183\n",
      "Preço médio de compra: 2.9311923076923074\n",
      "Número total de compras: 780\n",
      "Rendimento total: 2286.33\n"
     ]
    }
   ],
   "source": [
    "# Implemente aqui sua solução\n",
    "#Número de itens exclusivos\n",
    "numItens = len(purchase_file.groupby('Item ID').count())\n",
    "print(\"Número de itens exclusivos: \"+str(numItens))\n",
    "\n",
    "#Preço médio de compra\n",
    "vlrMedio = np.average(purchase_file.Valor)\n",
    "print(\"Preço médio de compra: \"+str(vlrMedio))\n",
    "\n",
    "#Número total de compras\n",
    "totCompras = purchase_file.Idade.count()\n",
    "print(\"Número total de compras: \"+str(totCompras))\n",
    "\n",
    "#Rendimento total\n",
    "vlrTotal = np.sum(purchase_file.Valor)\n",
    "print(\"Rendimento total: \"+str(vlrTotal))"
   ]
  },
  {
   "cell_type": "markdown",
   "metadata": {},
   "source": [
    "## Análise Demográfica"
   ]
  },
  {
   "cell_type": "code",
   "execution_count": 6,
   "metadata": {},
   "outputs": [],
   "source": [
    "## Implemente aqui sua solução"
   ]
  },
  {
   "cell_type": "markdown",
   "metadata": {},
   "source": [
    "## Informações Demográficas Por Gênero"
   ]
  },
  {
   "cell_type": "code",
   "execution_count": 7,
   "metadata": {},
   "outputs": [
    {
     "name": "stdout",
     "output_type": "stream",
     "text": [
      "Porcentagem e contagem de compradores masculinos: 81.15\n",
      "Porcentagem e contagem de compradores do sexo feminino: 17.44\n",
      "Porcentagem e contagem de outros / não divulgados: 1.41\n"
     ]
    }
   ],
   "source": [
    "# Implemente aqui sua solução\n",
    "#Porcentagem e contagem de compradores masculinos\n",
    "compMasc = (purchase_file[purchase_file.Sexo == 'Masculino'].Sexo.count()/purchase_file.Sexo.count())*100\n",
    "print(\"Porcentagem e contagem de compradores masculinos: \"+str(round(compMasc,2)))\n",
    "\n",
    "#Porcentagem e contagem de compradores do sexo feminino\n",
    "compFem = (purchase_file[purchase_file.Sexo == 'Feminino'].Sexo.count()/purchase_file.Sexo.count())*100\n",
    "print(\"Porcentagem e contagem de compradores do sexo feminino: \"+str(round(compFem,2)))\n",
    "\n",
    "#Porcentagem e contagem de outros / não divulgados\n",
    "compOutros = (purchase_file[purchase_file.Sexo == 'Outro / NÃ£o Divulgado'].Sexo.count()/purchase_file.Sexo.count())*100\n",
    "print(\"Porcentagem e contagem de outros / não divulgados: \"+str(round(compOutros,2)))"
   ]
  },
  {
   "cell_type": "markdown",
   "metadata": {},
   "source": [
    "## Análise de Compras Por Gênero"
   ]
  },
  {
   "cell_type": "code",
   "execution_count": 8,
   "metadata": {},
   "outputs": [
    {
     "name": "stdout",
     "output_type": "stream",
     "text": [
      "Número de compras:\n",
      "Sexo\n",
      "Feminino                  136\n",
      "Masculino                 633\n",
      "Outro / NÃ£o Divulgado     11\n",
      "Name: Sexo, dtype: int64\n",
      "\n",
      "Preço médio de compra:\n",
      "Sexo\n",
      "Feminino                  2.815515\n",
      "Masculino                 2.950521\n",
      "Outro / NÃ£o Divulgado    3.249091\n",
      "Name: Valor, dtype: float64\n",
      "\n",
      "Valor Total de Compra:\n",
      "Sexo\n",
      "Feminino                   382.91\n",
      "Masculino                 1867.68\n",
      "Outro / NÃ£o Divulgado      35.74\n",
      "Name: Valor, dtype: float64\n",
      "\n",
      "Compras for faixa etária:\n",
      "Sexo                    Idade\n",
      "Feminino                7         5\n",
      "                        9         1\n",
      "                        10        2\n",
      "                        11        2\n",
      "                        13        5\n",
      "                        15        4\n",
      "                        16        5\n",
      "                        17        6\n",
      "                        18        6\n",
      "                        19        3\n",
      "                        20       17\n",
      "                        21        4\n",
      "                        22        9\n",
      "                        23       10\n",
      "                        24        9\n",
      "                        25       15\n",
      "                        26        4\n",
      "                        27        6\n",
      "                        29        3\n",
      "                        30        2\n",
      "                        31        1\n",
      "                        32        2\n",
      "                        33        2\n",
      "                        35        2\n",
      "                        37        4\n",
      "                        39        5\n",
      "                        40        2\n",
      "Masculino               7        14\n",
      "                        8         3\n",
      "                        9         5\n",
      "                                 ..\n",
      "                        21       38\n",
      "                        22       58\n",
      "                        23       47\n",
      "                        24       61\n",
      "                        25       52\n",
      "                        26        8\n",
      "                        27       11\n",
      "                        28        5\n",
      "                        29       18\n",
      "                        30       16\n",
      "                        31       15\n",
      "                        32        8\n",
      "                        33        7\n",
      "                        34        6\n",
      "                        35       10\n",
      "                        36        7\n",
      "                        37        5\n",
      "                        38        9\n",
      "                        40       12\n",
      "                        42        1\n",
      "                        43        1\n",
      "                        45        1\n",
      "Outro / NÃ£o Divulgado  12        1\n",
      "                        21        1\n",
      "                        22        1\n",
      "                        26        1\n",
      "                        27        2\n",
      "                        32        1\n",
      "                        33        2\n",
      "                        34        2\n",
      "Name: Idade, Length: 71, dtype: int64\n"
     ]
    }
   ],
   "source": [
    "# Implemente aqui sua solução\n",
    "print(\"Número de compras:\")\n",
    "numComp = purchase_file.groupby(\"Sexo\").Sexo.count()\n",
    "print(numComp)\n",
    "\n",
    "print(\"\\nPreço médio de compra:\")\n",
    "vlrMed = purchase_file.groupby(\"Sexo\").Valor.agg('mean')\n",
    "print(vlrMed)\n",
    "\n",
    "print(\"\\nValor Total de Compra:\")\n",
    "vlrTot = purchase_file.groupby(\"Sexo\").Valor.sum()\n",
    "print(vlrTot)\n",
    "\n",
    "print(\"\\nCompras for faixa etária:\")\n",
    "vlrTot = purchase_file.groupby(['Sexo','Idade']).Idade.count()\n",
    "print(vlrTot)"
   ]
  },
  {
   "cell_type": "markdown",
   "metadata": {},
   "source": [
    "## Consumidores Mais Populares (Top 5)"
   ]
  },
  {
   "cell_type": "code",
   "execution_count": 80,
   "metadata": {},
   "outputs": [
    {
     "name": "stdout",
     "output_type": "stream",
     "text": [
      "5 principais compradores:\n",
      "         Login  Valor_Total\n",
      "0  Undirrala66        17.06\n",
      "1     Saedue76        13.56\n",
      "2  Mindimnya67        12.74\n",
      "3   Haellysu29        12.73\n",
      "4       Eoda93        11.58\n",
      "         Login  Valor_Total  Num_compra  Vlr_medio  Item\n",
      "0  Undirrala66        17.06           5   3.412000     5\n",
      "1     Saedue76        13.56           4   3.390000     4\n",
      "2  Mindimnya67        12.74           4   3.185000     4\n",
      "3   Haellysu29        12.73           3   4.243333     3\n",
      "4       Eoda93        11.58           3   3.860000     3\n",
      "780\n"
     ]
    }
   ],
   "source": [
    "# Implemente aqui sua solução\n",
    "#Identifique os 5 principais compradores pelo valor total de compra e, em seguida, liste (em uma tabela):\n",
    "\n",
    "#Login\n",
    "print(\"5 principais compradores:\")\n",
    "comp = purchase_file.groupby(\"Login\").Valor.sum().sort_values(ascending=False).iloc[0:5]\n",
    "#converte o resultado de uma Série em DataFrame (Tabela)\n",
    "df = pd.DataFrame({'Login':comp.index, 'Valor_Total':comp.values})\n",
    "print(df)\n",
    "df['Num_compra'] = 0\n",
    "df['Vlr_medio'] = 0\n",
    "df['Item'] = ''\n",
    "\n",
    "for x in df['Login']:\n",
    "    #Número de compras\n",
    "    df.loc[df['Login'] == x,'Num_compra'] = purchase_file[purchase_file['Login'] == x].Valor.count()\n",
    "    #Preço médio de compra\n",
    "    df.loc[df['Login'] == x,'Vlr_medio'] = purchase_file[purchase_file['Login'] == x].Valor.agg('mean')\n",
    "    #Itens mais populares\n",
    "    df.loc[df['Login'] == x,'Item'] = purchase_file[purchase_file['Login'] == x]['Nome do Item'].count()\n",
    "\n",
    "print(df)"
   ]
  },
  {
   "cell_type": "markdown",
   "metadata": {},
   "source": [
    "## Itens Mais Populares"
   ]
  },
  {
   "cell_type": "code",
   "execution_count": 104,
   "metadata": {},
   "outputs": [
    {
     "name": "stdout",
     "output_type": "stream",
     "text": [
      "5 principais produtos:\n",
      "   Item ID  Qtde_Compras                             Nome_Item  Vlr_unitario  \\\n",
      "0       84            11                            Arcane Gem          2.23   \n",
      "1       39            11  Betrayal, Whisper of Grieving Widows          2.35   \n",
      "2       31             9                             Trickster          2.07   \n",
      "3       34             9                       Retribution Axe          4.14   \n",
      "4      175             9            Woeful Adamantite Claymore          1.24   \n",
      "\n",
      "   Vlr_total  \n",
      "0      24.53  \n",
      "1      25.85  \n",
      "2      18.63  \n",
      "3      37.26  \n",
      "4      11.16  \n"
     ]
    }
   ],
   "source": [
    "# Implemente aqui sua solução\n",
    "#Identifique os 5 itens mais populares por contagem de compras e, em seguida, liste (em uma tabela):\n",
    "\n",
    "#ID do item\n",
    "#Nome do item\n",
    "#Número de compras\n",
    "#Preço do item\n",
    "#Valor Total de Compra\n",
    "#Itens mais lucrativos\n",
    "\n",
    "print(\"5 principais produtos:\")\n",
    "comp = purchase_file.groupby(\"Item ID\")['Item ID'].count().sort_values(ascending=False).iloc[0:5]\n",
    "#converte o resultado de uma Série em DataFrame (Tabela)\n",
    "df = pd.DataFrame({'Item ID':comp.index, 'Qtde_Compras':comp.values})\n",
    "df['Nome_Item'] = ''\n",
    "df['Vlr_unitario'] = 0\n",
    "df['Vlr_total'] = 0\n",
    "\n",
    "for x in df['Item ID']:\n",
    "    #Nome do item\n",
    "    df.loc[df['Item ID'] == x,'Nome_Item'] = purchase_file[purchase_file['Item ID'] == x]['Nome do Item'].iloc[0]\n",
    "    #Preço do item\n",
    "    df.loc[df['Item ID'] == x,'Vlr_unitario'] = purchase_file[purchase_file['Item ID'] == x].Valor.iloc[0]\n",
    "    #Valor Total de Compra\n",
    "    df.loc[df['Item ID'] == x,'Vlr_total'] = purchase_file[purchase_file['Item ID'] == x].Valor.sum()\n",
    "\n",
    "print(df)\n",
    "#print(purchase_file[purchase_file['Item ID'] == 175]['Nome do Item'].iloc[0])"
   ]
  },
  {
   "cell_type": "markdown",
   "metadata": {},
   "source": [
    "## Itens Mais Lucrativos"
   ]
  },
  {
   "cell_type": "code",
   "execution_count": 107,
   "metadata": {},
   "outputs": [
    {
     "name": "stdout",
     "output_type": "stream",
     "text": [
      "5 produtos mais lucrativos:\n",
      "   Item ID  Vlr_total                   Nome_Item  Qtde_Compras  Vlr_unitario\n",
      "0       34      37.26             Retribution Axe             9          4.14\n",
      "1      115      29.75  Spectral Diamond Doomblade             7          4.25\n",
      "2       32      29.70                     Orenmir             6          4.95\n",
      "3      103      29.22              Singed Scalpel             6          4.87\n",
      "4      107      28.88   Splitter, Foe Of Subtlety             8          3.61\n"
     ]
    }
   ],
   "source": [
    "# Implemente aqui sua solução\n",
    "#Identifique os 5 itens mais lucrativos pelo valor total de compra e, em seguida, liste (em uma tabela):\n",
    "\n",
    "#ID do item\n",
    "#Nome do item\n",
    "#Número de compras\n",
    "#Preço do item\n",
    "#Valor Total de Compra\n",
    "\n",
    "print(\"5 produtos mais lucrativos:\")\n",
    "comp = purchase_file.groupby(\"Item ID\").Valor.sum().sort_values(ascending=False).iloc[0:5]\n",
    "#converte o resultado de uma Série em DataFrame (Tabela)\n",
    "df = pd.DataFrame({'Item ID':comp.index, 'Vlr_total':comp.values})\n",
    "df['Nome_Item'] = ''\n",
    "df['Qtde_Compras'] = 0\n",
    "df['Vlr_unitario'] = 0\n",
    "\n",
    "for x in df['Item ID']:\n",
    "    #Nome do item\n",
    "    df.loc[df['Item ID'] == x,'Nome_Item'] = purchase_file[purchase_file['Item ID'] == x]['Nome do Item'].iloc[0]\n",
    "    #Número de compras\n",
    "    df.loc[df['Item ID'] == x,'Qtde_Compras'] = purchase_file[purchase_file['Item ID'] == x]['Nome do Item'].count()\n",
    "    #Preço do item\n",
    "    df.loc[df['Item ID'] == x,'Vlr_unitario'] = purchase_file[purchase_file['Item ID'] == x].Valor.iloc[0]\n",
    "\n",
    "print(df)"
   ]
  },
  {
   "cell_type": "markdown",
   "metadata": {
    "collapsed": true
   },
   "source": [
    "## Fim"
   ]
  },
  {
   "cell_type": "markdown",
   "metadata": {
    "collapsed": true
   },
   "source": [
    "### Obrigado - Data Science Academy - <a href=\"http://facebook.com/dsacademybr\">facebook.com/dsacademybr</a>"
   ]
  }
 ],
 "metadata": {
  "kernelspec": {
   "display_name": "Python 3",
   "language": "python",
   "name": "python3"
  },
  "language_info": {
   "codemirror_mode": {
    "name": "ipython",
    "version": 3
   },
   "file_extension": ".py",
   "mimetype": "text/x-python",
   "name": "python",
   "nbconvert_exporter": "python",
   "pygments_lexer": "ipython3",
   "version": "3.6.5"
  }
 },
 "nbformat": 4,
 "nbformat_minor": 2
}
